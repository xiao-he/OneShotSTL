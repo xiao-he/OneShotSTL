{
 "cells": [
  {
   "cell_type": "code",
   "execution_count": 1,
   "metadata": {},
   "outputs": [],
   "source": [
    "import os\n",
    "import json\n",
    "import numpy as np\n",
    "import pandas as pd\n",
    "from os import walk"
   ]
  },
  {
   "cell_type": "markdown",
   "metadata": {},
   "source": [
    "## Run OneShotSTL"
   ]
  },
  {
   "cell_type": "code",
   "execution_count": 2,
   "metadata": {},
   "outputs": [
    {
     "name": "stdout",
     "output_type": "stream",
     "text": [
      "OPPORTUNITY\n",
      "IOPS\n",
      "SVDB\n",
      "Daphnet\n",
      "MGAB\n",
      "MITDB\n",
      "Occupancy\n",
      "ECG\n",
      "GHL\n",
      "SensorScope\n",
      "NASA-MSL\n",
      "SMD\n",
      "NASA-SMAP\n",
      "NAB\n",
      "Genesis\n",
      "Dodgers\n",
      "YAHOO\n"
     ]
    }
   ],
   "source": [
    "filepath = 'data/TSB-UAD-Public/'\n",
    "shift_window = 20\n",
    "all_folders = []\n",
    "for (dirpath, dirnames, filenames) in walk(filepath):\n",
    "    all_folders.extend(dirnames)\n",
    "    break    \n",
    "for folder in all_folders:\n",
    "    if folder != 'KDD21':\n",
    "        all_fn = []\n",
    "        for (dirpath, dirnames, filenames) in walk(\"{}/{}\".format(filepath, folder)):\n",
    "            all_fn.extend(filenames)\n",
    "            break    \n",
    "        for fn in all_fn:\n",
    "            if fn.endswith('.json'):\n",
    "                input_fn = '{}/{}/{}'.format(filepath, folder, fn)\n",
    "                output_fn = 'result/TSB-UAD/{}/OneShotSTL.{}'.format(folder, fn)\n",
    "                cmd = \"java -jar java/OneShotSTL/OneShotSTL.jar --method OneShotSTL --task anomaly --shiftWindow {} --in {} --out {}\".format(shift_window, input_fn, output_fn)\n",
    "                _ = os.system(cmd)\n",
    "        print(folder)"
   ]
  },
  {
   "cell_type": "markdown",
   "metadata": {},
   "source": [
    "## Calculate VUS score"
   ]
  },
  {
   "cell_type": "code",
   "execution_count": 3,
   "metadata": {},
   "outputs": [
    {
     "name": "stdout",
     "output_type": "stream",
     "text": [
      "Daphnet 0.7272651232999953\n"
     ]
    }
   ],
   "source": [
    "from vus.analysis.robustness_eval import generate_curve\n",
    "filepath = 'data/TSB-UAD-Public/'\n",
    "folder = 'Daphnet'\n",
    "all_fn = []\n",
    "for (dirpath, dirnames, filenames) in walk(\"{}/{}\".format(filepath, folder)):\n",
    "    all_fn.extend(filenames)\n",
    "    break    \n",
    "vus_roc = []\n",
    "for fn in all_fn:\n",
    "    if fn.endswith('.json'):\n",
    "        input_fn = '{}/{}/{}'.format(filepath, folder, fn)        \n",
    "        output_fn = 'result/TSB-UAD/{}/OneShotSTL.{}'.format(folder, fn)\n",
    "        with open(input_fn) as f:\n",
    "            data = json.load(f)       \n",
    "        train_test_split = data['trainTestSplit']\n",
    "        slidingWindow = data['period']\n",
    "        label = np.array(data['label'])\n",
    "        with open(output_fn) as f:\n",
    "            res = json.load(f)  \n",
    "        score = np.array(res['anomalyScore'])\n",
    "        _, _, _, _, _, _,VUS_ROC, VUS_PR = generate_curve(label[train_test_split:], score, 2*slidingWindow)        \n",
    "        vus_roc.append(VUS_ROC)\n",
    "print(folder, np.mean(vus_roc))"
   ]
  }
 ],
 "metadata": {
  "kernelspec": {
   "display_name": "Python 3 (ipykernel)",
   "language": "python",
   "name": "python3"
  },
  "language_info": {
   "codemirror_mode": {
    "name": "ipython",
    "version": 3
   },
   "file_extension": ".py",
   "mimetype": "text/x-python",
   "name": "python",
   "nbconvert_exporter": "python",
   "pygments_lexer": "ipython3",
   "version": "3.8.16"
  }
 },
 "nbformat": 4,
 "nbformat_minor": 4
}
