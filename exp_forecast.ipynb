{
 "cells": [
  {
   "cell_type": "code",
   "execution_count": 1,
   "metadata": {},
   "outputs": [],
   "source": [
    "import os\n",
    "import json\n",
    "import numpy as np\n",
    "import pandas as pd"
   ]
  },
  {
   "cell_type": "code",
   "execution_count": 2,
   "metadata": {},
   "outputs": [],
   "source": [
    "meta = pd.read_csv('data/all_six_datasets_meta.csv').to_numpy()"
   ]
  },
  {
   "cell_type": "code",
   "execution_count": 3,
   "metadata": {},
   "outputs": [
    {
     "name": "stdout",
     "output_type": "stream",
     "text": [
      "ETTh1 96\n",
      "ETTh1 192\n",
      "ETTh1 336\n",
      "ETTh1 720\n",
      "\n",
      "ETTh2 96\n",
      "ETTh2 192\n",
      "ETTh2 336\n",
      "ETTh2 720\n",
      "\n",
      "ETTm1 96\n",
      "ETTm1 192\n",
      "ETTm1 336\n",
      "ETTm1 720\n",
      "\n",
      "ETTm2 96\n",
      "ETTm2 192\n",
      "ETTm2 336\n",
      "ETTm2 720\n",
      "\n",
      "electricity 96\n",
      "electricity 192\n",
      "electricity 336\n",
      "electricity 720\n",
      "\n",
      "exchange_rate 96\n",
      "exchange_rate 192\n",
      "exchange_rate 336\n",
      "exchange_rate 720\n",
      "\n",
      "illness 24\n",
      "illness 36\n",
      "illness 48\n",
      "illness 60\n",
      "\n",
      "traffic 96\n",
      "traffic 192\n",
      "traffic 336\n",
      "traffic 720\n",
      "\n",
      "weather 96\n",
      "weather 192\n",
      "weather 336\n",
      "weather 720\n",
      "\n"
     ]
    }
   ],
   "source": [
    "for i in range(len(meta)):\n",
    "    data_name = meta[i][0]\n",
    "    if data_name == 'illness':\n",
    "        pred_steps = [24, 36, 48, 60]\n",
    "    else:\n",
    "        pred_steps = [96, 192, 336, 720]  \n",
    "    for step in pred_steps:\n",
    "        if data_name.startswith('ETT'):\n",
    "            input_fn = 'data/all_six_datasets/ETT-small/{}_S.json'.format(data_name)\n",
    "        else:\n",
    "            input_fn = 'data/all_six_datasets/{}/{}_S.json'.format(data_name, data_name)\n",
    "        output_fn = 'result/forecast/{}_S_{}_OneShotSTL.json'.format(data_name, step)\n",
    "        cmd = \"java -jar java/OneShotSTL/OneShotSTL.jar --method OneShotSTL --task forecast --shiftWindow 0 --in {} --out {} --predStep {}\".format(input_fn, output_fn, step)\n",
    "        _ = os.system(cmd)\n",
    "        print(data_name, step)\n",
    "    print()"
   ]
  },
  {
   "cell_type": "code",
   "execution_count": 4,
   "metadata": {},
   "outputs": [
    {
     "name": "stdout",
     "output_type": "stream",
     "text": [
      "ETTh1 96 MAE: 0.18962402830751124\n",
      "ETTh1 192 MAE: 0.21737275359277927\n",
      "ETTh1 336 MAE: 0.24354357837731577\n",
      "ETTh1 720 MAE: 0.2593712209062981\n",
      "\n",
      "ETTh2 96 MAE: 0.28147036256575714\n",
      "ETTh2 192 MAE: 0.3331575125025986\n",
      "ETTh2 336 MAE: 0.38279726159129895\n",
      "ETTh2 720 MAE: 0.41704908773632704\n",
      "\n",
      "ETTm1 96 MAE: 0.1504573316262274\n",
      "ETTm1 192 MAE: 0.17111213499087788\n",
      "ETTm1 336 MAE: 0.1892004804649334\n",
      "ETTm1 720 MAE: 0.21858855903430022\n",
      "\n",
      "ETTm2 96 MAE: 0.2222757454388045\n",
      "ETTm2 192 MAE: 0.24799290153112308\n",
      "ETTm2 336 MAE: 0.273735276958481\n",
      "ETTm2 720 MAE: 0.32589694369167715\n",
      "\n",
      "electricity 96 MAE: 0.3447006725570952\n",
      "electricity 192 MAE: 0.37014633842289946\n",
      "electricity 336 MAE: 0.4054195496468546\n",
      "electricity 720 MAE: 0.4600497041127023\n",
      "\n",
      "exchange_rate 96 MAE: 0.23795008977874904\n",
      "exchange_rate 192 MAE: 0.34884135651317577\n",
      "exchange_rate 336 MAE: 0.47999755394602583\n",
      "exchange_rate 720 MAE: 0.7714791691624796\n",
      "\n",
      "illness 24 MAE: 0.8107016425645575\n",
      "illness 36 MAE: 0.8993177345255178\n",
      "illness 48 MAE: 0.8916333497323095\n",
      "illness 60 MAE: 0.9742950719377244\n",
      "\n",
      "traffic 96 MAE: 0.18645392499791\n",
      "traffic 192 MAE: 0.18587122991185034\n",
      "traffic 336 MAE: 0.1868693229924256\n",
      "traffic 720 MAE: 0.20431116314954867\n",
      "\n",
      "weather 96 MAE: 0.024477364890256037\n",
      "weather 192 MAE: 0.025320641280499687\n",
      "weather 336 MAE: 0.026738877864828207\n",
      "weather 720 MAE: 0.03132322770229951\n",
      "\n"
     ]
    }
   ],
   "source": [
    "for i in range(len(meta)):\n",
    "    data_name = meta[i][0]\n",
    "    train_test_split = meta[i][1]\n",
    "    if data_name == 'illness':\n",
    "        pred_steps = [24, 36, 48, 60]\n",
    "    else:\n",
    "        pred_steps = [96, 192, 336, 720]  \n",
    "    for step in pred_steps:\n",
    "        output_fn = 'result/forecast/{}_S_{}_OneShotSTL.json'.format(data_name, step)        \n",
    "        with open(output_fn) as f:\n",
    "            result = json.load(f)\n",
    "            pred = np.array(result['pred'])\n",
    "            real = np.array(result['real'])\n",
    "        print(data_name, step, \"MAE:\", np.mean(np.abs(real - pred))) \n",
    "    print()"
   ]
  },
  {
   "cell_type": "code",
   "execution_count": null,
   "metadata": {},
   "outputs": [],
   "source": []
  }
 ],
 "metadata": {
  "kernelspec": {
   "display_name": "Python 3 (ipykernel)",
   "language": "python",
   "name": "python3"
  },
  "language_info": {
   "codemirror_mode": {
    "name": "ipython",
    "version": 3
   },
   "file_extension": ".py",
   "mimetype": "text/x-python",
   "name": "python",
   "nbconvert_exporter": "python",
   "pygments_lexer": "ipython3",
   "version": "3.8.16"
  }
 },
 "nbformat": 4,
 "nbformat_minor": 4
}
